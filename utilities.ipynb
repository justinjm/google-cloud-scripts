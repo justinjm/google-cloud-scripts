{
 "cells": [
  {
   "cell_type": "markdown",
   "metadata": {},
   "source": [
    "# Utlities \n",
    "\n",
    "A collection of Jupyter notebook utilities. "
   ]
  },
  {
   "cell_type": "markdown",
   "metadata": {},
   "source": [
    "## Get Project ID "
   ]
  },
  {
   "cell_type": "code",
   "execution_count": null,
   "metadata": {},
   "outputs": [],
   "source": [
    "project = !gcloud config get-value project\n",
    "PROJECT_ID = project[0]\n",
    "print(PROJECT_ID)"
   ]
  },
  {
   "cell_type": "markdown",
   "metadata": {},
   "source": [
    "## Get Project Number and default compute engine service account"
   ]
  },
  {
   "cell_type": "code",
   "execution_count": null,
   "metadata": {},
   "outputs": [],
   "source": [
    "# run gcloud commands \n",
    "PROJECT_NUMBER = !gcloud projects describe $(gcloud config get-value project) --format=\"value(projectNumber)\"\n",
    "PROJECT_NUMBER = PROJECT_NUMBER[0]\n",
    "print(PROJECT_NUMBER)\n",
    "\n",
    "SERVICE_ACCOUNT_EMAIL = str(PROJECT_NUMBER) + \"-compute@developer.gserviceaccount.com\"\n",
    "print(SERVICE_ACCOUNT_EMAIL)\n",
    "\n",
    "# add policy binding\n",
    "\n"
   ]
  }
 ],
 "metadata": {
  "kernelspec": {
   "display_name": "Python 3",
   "language": "python",
   "name": "python3"
  },
  "language_info": {
   "codemirror_mode": {
    "name": "ipython",
    "version": 3
   },
   "file_extension": ".py",
   "mimetype": "text/x-python",
   "name": "python",
   "nbconvert_exporter": "python",
   "pygments_lexer": "ipython3",
   "version": "3.10.10"
  },
  "orig_nbformat": 4
 },
 "nbformat": 4,
 "nbformat_minor": 2
}
